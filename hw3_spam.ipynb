{
 "cells": [
  {
   "cell_type": "code",
   "execution_count": 1,
   "id": "59cbb6db",
   "metadata": {},
   "outputs": [],
   "source": [
    "# imports\n",
    "import pandas as pd\n",
    "import numpy as np\n",
    "\n",
    "%matplotlib inline\n",
    "import matplotlib.pyplot as plt\n",
    "import seaborn as sns\n",
    "sns.set_style('darkgrid')\n",
    "\n",
    "from sklearn.model_selection import train_test_split\n",
    "from sklearn.feature_extraction.text import TfidfVectorizer"
   ]
  },
  {
   "cell_type": "markdown",
   "id": "e5685662",
   "metadata": {},
   "source": [
    "Импорт нужных библиотек"
   ]
  },
  {
   "cell_type": "code",
   "execution_count": 2,
   "id": "05d76f2b",
   "metadata": {},
   "outputs": [
    {
     "data": {
      "text/html": [
       "<div>\n",
       "<style scoped>\n",
       "    .dataframe tbody tr th:only-of-type {\n",
       "        vertical-align: middle;\n",
       "    }\n",
       "\n",
       "    .dataframe tbody tr th {\n",
       "        vertical-align: top;\n",
       "    }\n",
       "\n",
       "    .dataframe thead th {\n",
       "        text-align: right;\n",
       "    }\n",
       "</style>\n",
       "<table border=\"1\" class=\"dataframe\">\n",
       "  <thead>\n",
       "    <tr style=\"text-align: right;\">\n",
       "      <th></th>\n",
       "      <th>target</th>\n",
       "      <th>sentence</th>\n",
       "      <th>1</th>\n",
       "      <th>2</th>\n",
       "      <th>3</th>\n",
       "    </tr>\n",
       "  </thead>\n",
       "  <tbody>\n",
       "    <tr>\n",
       "      <th>0</th>\n",
       "      <td>ham</td>\n",
       "      <td>Go until jurong point, crazy.. Available only ...</td>\n",
       "      <td>NaN</td>\n",
       "      <td>NaN</td>\n",
       "      <td>NaN</td>\n",
       "    </tr>\n",
       "    <tr>\n",
       "      <th>1</th>\n",
       "      <td>ham</td>\n",
       "      <td>Ok lar... Joking wif u oni...</td>\n",
       "      <td>NaN</td>\n",
       "      <td>NaN</td>\n",
       "      <td>NaN</td>\n",
       "    </tr>\n",
       "    <tr>\n",
       "      <th>2</th>\n",
       "      <td>spam</td>\n",
       "      <td>Free entry in 2 a wkly comp to win FA Cup fina...</td>\n",
       "      <td>NaN</td>\n",
       "      <td>NaN</td>\n",
       "      <td>NaN</td>\n",
       "    </tr>\n",
       "    <tr>\n",
       "      <th>3</th>\n",
       "      <td>ham</td>\n",
       "      <td>U dun say so early hor... U c already then say...</td>\n",
       "      <td>NaN</td>\n",
       "      <td>NaN</td>\n",
       "      <td>NaN</td>\n",
       "    </tr>\n",
       "    <tr>\n",
       "      <th>4</th>\n",
       "      <td>ham</td>\n",
       "      <td>Nah I don't think he goes to usf, he lives aro...</td>\n",
       "      <td>NaN</td>\n",
       "      <td>NaN</td>\n",
       "      <td>NaN</td>\n",
       "    </tr>\n",
       "    <tr>\n",
       "      <th>5</th>\n",
       "      <td>spam</td>\n",
       "      <td>FreeMsg Hey there darling it's been 3 week's n...</td>\n",
       "      <td>NaN</td>\n",
       "      <td>NaN</td>\n",
       "      <td>NaN</td>\n",
       "    </tr>\n",
       "    <tr>\n",
       "      <th>6</th>\n",
       "      <td>ham</td>\n",
       "      <td>Even my brother is not like to speak with me. ...</td>\n",
       "      <td>NaN</td>\n",
       "      <td>NaN</td>\n",
       "      <td>NaN</td>\n",
       "    </tr>\n",
       "    <tr>\n",
       "      <th>7</th>\n",
       "      <td>ham</td>\n",
       "      <td>As per your request 'Melle Melle (Oru Minnamin...</td>\n",
       "      <td>NaN</td>\n",
       "      <td>NaN</td>\n",
       "      <td>NaN</td>\n",
       "    </tr>\n",
       "    <tr>\n",
       "      <th>8</th>\n",
       "      <td>spam</td>\n",
       "      <td>WINNER!! As a valued network customer you have...</td>\n",
       "      <td>NaN</td>\n",
       "      <td>NaN</td>\n",
       "      <td>NaN</td>\n",
       "    </tr>\n",
       "    <tr>\n",
       "      <th>9</th>\n",
       "      <td>spam</td>\n",
       "      <td>Had your mobile 11 months or more? U R entitle...</td>\n",
       "      <td>NaN</td>\n",
       "      <td>NaN</td>\n",
       "      <td>NaN</td>\n",
       "    </tr>\n",
       "    <tr>\n",
       "      <th>10</th>\n",
       "      <td>ham</td>\n",
       "      <td>I'm gonna be home soon and i don't want to tal...</td>\n",
       "      <td>NaN</td>\n",
       "      <td>NaN</td>\n",
       "      <td>NaN</td>\n",
       "    </tr>\n",
       "    <tr>\n",
       "      <th>11</th>\n",
       "      <td>spam</td>\n",
       "      <td>SIX chances to win CASH! From 100 to 20,000 po...</td>\n",
       "      <td>NaN</td>\n",
       "      <td>NaN</td>\n",
       "      <td>NaN</td>\n",
       "    </tr>\n",
       "    <tr>\n",
       "      <th>12</th>\n",
       "      <td>spam</td>\n",
       "      <td>URGENT! You have won a 1 week FREE membership ...</td>\n",
       "      <td>NaN</td>\n",
       "      <td>NaN</td>\n",
       "      <td>NaN</td>\n",
       "    </tr>\n",
       "    <tr>\n",
       "      <th>13</th>\n",
       "      <td>ham</td>\n",
       "      <td>I've been searching for the right words to tha...</td>\n",
       "      <td>NaN</td>\n",
       "      <td>NaN</td>\n",
       "      <td>NaN</td>\n",
       "    </tr>\n",
       "    <tr>\n",
       "      <th>14</th>\n",
       "      <td>ham</td>\n",
       "      <td>I HAVE A DATE ON SUNDAY WITH WILL!!</td>\n",
       "      <td>NaN</td>\n",
       "      <td>NaN</td>\n",
       "      <td>NaN</td>\n",
       "    </tr>\n",
       "    <tr>\n",
       "      <th>15</th>\n",
       "      <td>spam</td>\n",
       "      <td>XXXMobileMovieClub: To use your credit, click ...</td>\n",
       "      <td>NaN</td>\n",
       "      <td>NaN</td>\n",
       "      <td>NaN</td>\n",
       "    </tr>\n",
       "    <tr>\n",
       "      <th>16</th>\n",
       "      <td>ham</td>\n",
       "      <td>Oh k...i'm watching here:)</td>\n",
       "      <td>NaN</td>\n",
       "      <td>NaN</td>\n",
       "      <td>NaN</td>\n",
       "    </tr>\n",
       "    <tr>\n",
       "      <th>17</th>\n",
       "      <td>ham</td>\n",
       "      <td>Eh u remember how 2 spell his name... Yes i di...</td>\n",
       "      <td>NaN</td>\n",
       "      <td>NaN</td>\n",
       "      <td>NaN</td>\n",
       "    </tr>\n",
       "    <tr>\n",
       "      <th>18</th>\n",
       "      <td>ham</td>\n",
       "      <td>Fine if thatåÕs the way u feel. ThatåÕs the wa...</td>\n",
       "      <td>NaN</td>\n",
       "      <td>NaN</td>\n",
       "      <td>NaN</td>\n",
       "    </tr>\n",
       "    <tr>\n",
       "      <th>19</th>\n",
       "      <td>spam</td>\n",
       "      <td>England v Macedonia - dont miss the goals/team...</td>\n",
       "      <td>NaN</td>\n",
       "      <td>NaN</td>\n",
       "      <td>NaN</td>\n",
       "    </tr>\n",
       "    <tr>\n",
       "      <th>20</th>\n",
       "      <td>ham</td>\n",
       "      <td>Is that seriously how you spell his name?</td>\n",
       "      <td>NaN</td>\n",
       "      <td>NaN</td>\n",
       "      <td>NaN</td>\n",
       "    </tr>\n",
       "    <tr>\n",
       "      <th>21</th>\n",
       "      <td>ham</td>\n",
       "      <td>IÛ÷m going to try for 2 months ha ha only joking</td>\n",
       "      <td>NaN</td>\n",
       "      <td>NaN</td>\n",
       "      <td>NaN</td>\n",
       "    </tr>\n",
       "    <tr>\n",
       "      <th>22</th>\n",
       "      <td>ham</td>\n",
       "      <td>So Ì_ pay first lar... Then when is da stock c...</td>\n",
       "      <td>NaN</td>\n",
       "      <td>NaN</td>\n",
       "      <td>NaN</td>\n",
       "    </tr>\n",
       "    <tr>\n",
       "      <th>23</th>\n",
       "      <td>ham</td>\n",
       "      <td>Aft i finish my lunch then i go str down lor. ...</td>\n",
       "      <td>NaN</td>\n",
       "      <td>NaN</td>\n",
       "      <td>NaN</td>\n",
       "    </tr>\n",
       "    <tr>\n",
       "      <th>24</th>\n",
       "      <td>ham</td>\n",
       "      <td>Ffffffffff. Alright no way I can meet up with ...</td>\n",
       "      <td>NaN</td>\n",
       "      <td>NaN</td>\n",
       "      <td>NaN</td>\n",
       "    </tr>\n",
       "  </tbody>\n",
       "</table>\n",
       "</div>"
      ],
      "text/plain": [
       "   target                                           sentence    1    2    3\n",
       "0     ham  Go until jurong point, crazy.. Available only ...  NaN  NaN  NaN\n",
       "1     ham                      Ok lar... Joking wif u oni...  NaN  NaN  NaN\n",
       "2    spam  Free entry in 2 a wkly comp to win FA Cup fina...  NaN  NaN  NaN\n",
       "3     ham  U dun say so early hor... U c already then say...  NaN  NaN  NaN\n",
       "4     ham  Nah I don't think he goes to usf, he lives aro...  NaN  NaN  NaN\n",
       "5    spam  FreeMsg Hey there darling it's been 3 week's n...  NaN  NaN  NaN\n",
       "6     ham  Even my brother is not like to speak with me. ...  NaN  NaN  NaN\n",
       "7     ham  As per your request 'Melle Melle (Oru Minnamin...  NaN  NaN  NaN\n",
       "8    spam  WINNER!! As a valued network customer you have...  NaN  NaN  NaN\n",
       "9    spam  Had your mobile 11 months or more? U R entitle...  NaN  NaN  NaN\n",
       "10    ham  I'm gonna be home soon and i don't want to tal...  NaN  NaN  NaN\n",
       "11   spam  SIX chances to win CASH! From 100 to 20,000 po...  NaN  NaN  NaN\n",
       "12   spam  URGENT! You have won a 1 week FREE membership ...  NaN  NaN  NaN\n",
       "13    ham  I've been searching for the right words to tha...  NaN  NaN  NaN\n",
       "14    ham                I HAVE A DATE ON SUNDAY WITH WILL!!  NaN  NaN  NaN\n",
       "15   spam  XXXMobileMovieClub: To use your credit, click ...  NaN  NaN  NaN\n",
       "16    ham                         Oh k...i'm watching here:)  NaN  NaN  NaN\n",
       "17    ham  Eh u remember how 2 spell his name... Yes i di...  NaN  NaN  NaN\n",
       "18    ham  Fine if thatåÕs the way u feel. ThatåÕs the wa...  NaN  NaN  NaN\n",
       "19   spam  England v Macedonia - dont miss the goals/team...  NaN  NaN  NaN\n",
       "20    ham          Is that seriously how you spell his name?  NaN  NaN  NaN\n",
       "21    ham  IÛ÷m going to try for 2 months ha ha only joking  NaN  NaN  NaN\n",
       "22    ham  So Ì_ pay first lar... Then when is da stock c...  NaN  NaN  NaN\n",
       "23    ham  Aft i finish my lunch then i go str down lor. ...  NaN  NaN  NaN\n",
       "24    ham  Ffffffffff. Alright no way I can meet up with ...  NaN  NaN  NaN"
      ]
     },
     "execution_count": 2,
     "metadata": {},
     "output_type": "execute_result"
    }
   ],
   "source": [
    "data=pd.read_csv('spam.csv',encoding='ISO-8859-1')\n",
    "data.rename(columns={\"v1\": \"target\",\"v2\": \"sentence\",\"Unnamed: 2\": \"1\",\"Unnamed: 3\": \"2\",\"Unnamed: 4\": \"3\"},inplace=True)\n",
    "data.head(n=25)"
   ]
  },
  {
   "cell_type": "code",
   "execution_count": 3,
   "id": "c87d7439",
   "metadata": {},
   "outputs": [
    {
     "data": {
      "text/plain": [
       "5572"
      ]
     },
     "execution_count": 3,
     "metadata": {},
     "output_type": "execute_result"
    }
   ],
   "source": [
    "data.shape[0]"
   ]
  },
  {
   "cell_type": "markdown",
   "id": "2ff69809",
   "metadata": {},
   "source": [
    "## \n",
    "Гистограмма распределения спам и не спам сообщений по датасету."
   ]
  },
  {
   "cell_type": "code",
   "execution_count": 4,
   "id": "36efaa76",
   "metadata": {},
   "outputs": [
    {
     "data": {
      "text/plain": [
       "<function matplotlib.pyplot.show(close=None, block=None)>"
      ]
     },
     "execution_count": 4,
     "metadata": {},
     "output_type": "execute_result"
    },
    {
     "data": {
      "image/png": "[encoded data removed]",
      "text/plain": [
       "<Figure size 800x500 with 1 Axes>"
      ]
     },
     "metadata": {},
     "output_type": "display_data"
    }
   ],
   "source": [
    "plt.figure(figsize=(8,5))\n",
    "sns.histplot(data.target)\n",
    "plt.show"
   ]
  },
  {
   "cell_type": "code",
   "execution_count": 5,
   "id": "c8249247",
   "metadata": {},
   "outputs": [],
   "source": [
    "data.target.loc[data.target=='ham']=0\n",
    "data.target.loc[data.target=='spam']=1"
   ]
  },
  {
   "cell_type": "code",
   "execution_count": 6,
   "id": "7e6783fa",
   "metadata": {},
   "outputs": [
    {
     "data": {
      "text/html": [
       "<div>\n",
       "<style scoped>\n",
       "    .dataframe tbody tr th:only-of-type {\n",
       "        vertical-align: middle;\n",
       "    }\n",
       "\n",
       "    .dataframe tbody tr th {\n",
       "        vertical-align: top;\n",
       "    }\n",
       "\n",
       "    .dataframe thead th {\n",
       "        text-align: right;\n",
       "    }\n",
       "</style>\n",
       "<table border=\"1\" class=\"dataframe\">\n",
       "  <thead>\n",
       "    <tr style=\"text-align: right;\">\n",
       "      <th></th>\n",
       "      <th>target</th>\n",
       "      <th>sentence</th>\n",
       "      <th>1</th>\n",
       "      <th>2</th>\n",
       "      <th>3</th>\n",
       "    </tr>\n",
       "  </thead>\n",
       "  <tbody>\n",
       "    <tr>\n",
       "      <th>0</th>\n",
       "      <td>0</td>\n",
       "      <td>Go until jurong point, crazy.. Available only ...</td>\n",
       "      <td>NaN</td>\n",
       "      <td>NaN</td>\n",
       "      <td>NaN</td>\n",
       "    </tr>\n",
       "    <tr>\n",
       "      <th>1</th>\n",
       "      <td>0</td>\n",
       "      <td>Ok lar... Joking wif u oni...</td>\n",
       "      <td>NaN</td>\n",
       "      <td>NaN</td>\n",
       "      <td>NaN</td>\n",
       "    </tr>\n",
       "    <tr>\n",
       "      <th>2</th>\n",
       "      <td>1</td>\n",
       "      <td>Free entry in 2 a wkly comp to win FA Cup fina...</td>\n",
       "      <td>NaN</td>\n",
       "      <td>NaN</td>\n",
       "      <td>NaN</td>\n",
       "    </tr>\n",
       "    <tr>\n",
       "      <th>3</th>\n",
       "      <td>0</td>\n",
       "      <td>U dun say so early hor... U c already then say...</td>\n",
       "      <td>NaN</td>\n",
       "      <td>NaN</td>\n",
       "      <td>NaN</td>\n",
       "    </tr>\n",
       "    <tr>\n",
       "      <th>4</th>\n",
       "      <td>0</td>\n",
       "      <td>Nah I don't think he goes to usf, he lives aro...</td>\n",
       "      <td>NaN</td>\n",
       "      <td>NaN</td>\n",
       "      <td>NaN</td>\n",
       "    </tr>\n",
       "  </tbody>\n",
       "</table>\n",
       "</div>"
      ],
      "text/plain": [
       "  target                                           sentence    1    2    3\n",
       "0      0  Go until jurong point, crazy.. Available only ...  NaN  NaN  NaN\n",
       "1      0                      Ok lar... Joking wif u oni...  NaN  NaN  NaN\n",
       "2      1  Free entry in 2 a wkly comp to win FA Cup fina...  NaN  NaN  NaN\n",
       "3      0  U dun say so early hor... U c already then say...  NaN  NaN  NaN\n",
       "4      0  Nah I don't think he goes to usf, he lives aro...  NaN  NaN  NaN"
      ]
     },
     "execution_count": 6,
     "metadata": {},
     "output_type": "execute_result"
    }
   ],
   "source": [
    "data.head()"
   ]
  },
  {
   "cell_type": "markdown",
   "id": "cfa8211f",
   "metadata": {},
   "source": [
    "Распределение по долям сколько спам сообщений и нормальных"
   ]
  },
  {
   "cell_type": "code",
   "execution_count": 7,
   "id": "ca1254a3",
   "metadata": {},
   "outputs": [
    {
     "data": {
      "text/plain": [
       "target\n",
       "0    0.865937\n",
       "1    0.134063\n",
       "Name: proportion, dtype: float64"
      ]
     },
     "execution_count": 7,
     "metadata": {},
     "output_type": "execute_result"
    }
   ],
   "source": [
    "data.target.value_counts(normalize=True)"
   ]
  },
  {
   "cell_type": "markdown",
   "id": "27f0be26",
   "metadata": {},
   "source": [
    "Количество пропусков по фичам"
   ]
  },
  {
   "cell_type": "code",
   "execution_count": 8,
   "id": "6828e366",
   "metadata": {},
   "outputs": [
    {
     "data": {
      "text/plain": [
       "target         0\n",
       "sentence       0\n",
       "1           5522\n",
       "2           5560\n",
       "3           5566\n",
       "dtype: int64"
      ]
     },
     "execution_count": 8,
     "metadata": {},
     "output_type": "execute_result"
    }
   ],
   "source": [
    "data.isna().sum()"
   ]
  },
  {
   "cell_type": "markdown",
   "id": "6870c65a",
   "metadata": {},
   "source": [
    "Сколько уникальных сообщений(расписано на все фичи, но важно только сколько именно сообщений уникальных)"
   ]
  },
  {
   "cell_type": "code",
   "execution_count": 9,
   "id": "658490b3",
   "metadata": {},
   "outputs": [
    {
     "data": {
      "text/plain": [
       "target         2\n",
       "sentence    5169\n",
       "1             43\n",
       "2             10\n",
       "3              5\n",
       "dtype: int64"
      ]
     },
     "execution_count": 9,
     "metadata": {},
     "output_type": "execute_result"
    }
   ],
   "source": [
    "data.nunique()"
   ]
  },
  {
   "cell_type": "markdown",
   "id": "3b05e315",
   "metadata": {},
   "source": [
    "Убираем дублирующиеся сообщения"
   ]
  },
  {
   "cell_type": "code",
   "execution_count": 10,
   "id": "918401f5",
   "metadata": {},
   "outputs": [],
   "source": [
    "data.drop(data[data.duplicated(subset='sentence')].index,inplace=True)"
   ]
  },
  {
   "cell_type": "code",
   "execution_count": 11,
   "id": "a3c13725",
   "metadata": {},
   "outputs": [
    {
     "data": {
      "text/html": [
       "<div>\n",
       "<style scoped>\n",
       "    .dataframe tbody tr th:only-of-type {\n",
       "        vertical-align: middle;\n",
       "    }\n",
       "\n",
       "    .dataframe tbody tr th {\n",
       "        vertical-align: top;\n",
       "    }\n",
       "\n",
       "    .dataframe thead th {\n",
       "        text-align: right;\n",
       "    }\n",
       "</style>\n",
       "<table border=\"1\" class=\"dataframe\">\n",
       "  <thead>\n",
       "    <tr style=\"text-align: right;\">\n",
       "      <th></th>\n",
       "      <th>target</th>\n",
       "      <th>sentence</th>\n",
       "      <th>1</th>\n",
       "      <th>2</th>\n",
       "      <th>3</th>\n",
       "    </tr>\n",
       "  </thead>\n",
       "  <tbody>\n",
       "    <tr>\n",
       "      <th>count</th>\n",
       "      <td>5169</td>\n",
       "      <td>5169</td>\n",
       "      <td>43</td>\n",
       "      <td>10</td>\n",
       "      <td>5</td>\n",
       "    </tr>\n",
       "    <tr>\n",
       "      <th>unique</th>\n",
       "      <td>2</td>\n",
       "      <td>5169</td>\n",
       "      <td>43</td>\n",
       "      <td>10</td>\n",
       "      <td>5</td>\n",
       "    </tr>\n",
       "    <tr>\n",
       "      <th>top</th>\n",
       "      <td>0</td>\n",
       "      <td>Go until jurong point, crazy.. Available only ...</td>\n",
       "      <td>PO Box 5249</td>\n",
       "      <td>MK17 92H. 450Ppw 16\"</td>\n",
       "      <td>just Keep-in-touch\\\" gdeve..\"</td>\n",
       "    </tr>\n",
       "    <tr>\n",
       "      <th>freq</th>\n",
       "      <td>4516</td>\n",
       "      <td>1</td>\n",
       "      <td>1</td>\n",
       "      <td>1</td>\n",
       "      <td>1</td>\n",
       "    </tr>\n",
       "  </tbody>\n",
       "</table>\n",
       "</div>"
      ],
      "text/plain": [
       "        target                                           sentence  \\\n",
       "count     5169                                               5169   \n",
       "unique       2                                               5169   \n",
       "top          0  Go until jurong point, crazy.. Available only ...   \n",
       "freq      4516                                                  1   \n",
       "\n",
       "                   1                      2                               3  \n",
       "count             43                     10                               5  \n",
       "unique            43                     10                               5  \n",
       "top      PO Box 5249   MK17 92H. 450Ppw 16\"   just Keep-in-touch\\\" gdeve..\"  \n",
       "freq               1                      1                               1  "
      ]
     },
     "execution_count": 11,
     "metadata": {},
     "output_type": "execute_result"
    }
   ],
   "source": [
    "data.describe()"
   ]
  },
  {
   "cell_type": "code",
   "execution_count": 12,
   "id": "94e3542c",
   "metadata": {},
   "outputs": [],
   "source": [
    "data['sym_len'] = data.sentence.apply(len)\n",
    "data['word_len'] = data.sentence.apply(lambda x: len(x.split()))"
   ]
  },
  {
   "cell_type": "markdown",
   "id": "49e43a61",
   "metadata": {},
   "source": [
    "Посмотрим количество символов и слов в каждом сообщении (Датасет маленький, так что обрезать не будем ничего, а так можно было бы тяжелые хвосты обрезать)."
   ]
  },
  {
   "cell_type": "code",
   "execution_count": 13,
   "id": "65706d97",
   "metadata": {},
   "outputs": [
    {
     "data": {
      "image/png": "[encoded data removed]",
      "text/plain": [
       "<Figure size 800x500 with 1 Axes>"
      ]
     },
     "metadata": {},
     "output_type": "display_data"
    }
   ],
   "source": [
    "plt.figure(figsize=(8,5))\n",
    "sns.histplot(data.sym_len)\n",
    "plt.show()"
   ]
  },
  {
   "cell_type": "code",
   "execution_count": 14,
   "id": "c2e5a38c",
   "metadata": {},
   "outputs": [
    {
     "data": {
      "image/png": "[encoded data removed]",
      "text/plain": [
       "<Figure size 800x500 with 1 Axes>"
      ]
     },
     "metadata": {},
     "output_type": "display_data"
    }
   ],
   "source": [
    "plt.figure(figsize=(8,5))\n",
    "sns.histplot(data.word_len)\n",
    "plt.show()"
   ]
  },
  {
   "cell_type": "markdown",
   "id": "6465124d",
   "metadata": {},
   "source": [
    "Теперь непосредственно обработка текста. Сделаем лемматизацию."
   ]
  },
  {
   "cell_type": "code",
   "execution_count": 15,
   "id": "6b2119b2",
   "metadata": {},
   "outputs": [
    {
     "name": "stderr",
     "output_type": "stream",
     "text": [
      "[nltk_data] Error loading punkt: <urlopen error [Errno -3] Temporary\n",
      "[nltk_data]     failure in name resolution>\n",
      "[nltk_data] Error loading wordnet: <urlopen error [Errno -3] Temporary\n",
      "[nltk_data]     failure in name resolution>\n"
     ]
    },
    {
     "data": {
      "text/plain": [
       "False"
      ]
     },
     "execution_count": 15,
     "metadata": {},
     "output_type": "execute_result"
    }
   ],
   "source": [
    "import nltk \n",
    "from nltk.stem import WordNetLemmatizer\n",
    "from nltk.tokenize import word_tokenize\n",
    "nltk.download('punkt')\n",
    "nltk.download('wordnet')"
   ]
  },
  {
   "cell_type": "code",
   "execution_count": 16,
   "id": "199bd5a1",
   "metadata": {},
   "outputs": [],
   "source": [
    "lemmatizer=WordNetLemmatizer()"
   ]
  },
  {
   "cell_type": "code",
   "execution_count": 17,
   "id": "b8cb7608",
   "metadata": {},
   "outputs": [],
   "source": [
    "def preprocess(text):\n",
    "    text = list(filter(str.isalpha, word_tokenize(text.lower())))\n",
    "    text = list(lemmatizer.lemmatize(word) for word in text)\n",
    "    return ' '.join(text)"
   ]
  },
  {
   "cell_type": "code",
   "execution_count": 18,
   "id": "5c637686",
   "metadata": {},
   "outputs": [],
   "source": [
    "data['text'] = data.apply(lambda row: preprocess(row.sentence), axis=1)"
   ]
  },
  {
   "cell_type": "code",
   "execution_count": 19,
   "id": "b0062f5d",
   "metadata": {},
   "outputs": [
    {
     "data": {
      "text/html": [
       "<div>\n",
       "<style scoped>\n",
       "    .dataframe tbody tr th:only-of-type {\n",
       "        vertical-align: middle;\n",
       "    }\n",
       "\n",
       "    .dataframe tbody tr th {\n",
       "        vertical-align: top;\n",
       "    }\n",
       "\n",
       "    .dataframe thead th {\n",
       "        text-align: right;\n",
       "    }\n",
       "</style>\n",
       "<table border=\"1\" class=\"dataframe\">\n",
       "  <thead>\n",
       "    <tr style=\"text-align: right;\">\n",
       "      <th></th>\n",
       "      <th>target</th>\n",
       "      <th>sentence</th>\n",
       "      <th>text</th>\n",
       "      <th>1</th>\n",
       "      <th>2</th>\n",
       "      <th>3</th>\n",
       "      <th>sym_len</th>\n",
       "      <th>word_len</th>\n",
       "    </tr>\n",
       "  </thead>\n",
       "  <tbody>\n",
       "    <tr>\n",
       "      <th>0</th>\n",
       "      <td>0</td>\n",
       "      <td>Go until jurong point, crazy.. Available only ...</td>\n",
       "      <td>go until jurong point crazy available only in ...</td>\n",
       "      <td>NaN</td>\n",
       "      <td>NaN</td>\n",
       "      <td>NaN</td>\n",
       "      <td>111</td>\n",
       "      <td>20</td>\n",
       "    </tr>\n",
       "    <tr>\n",
       "      <th>1</th>\n",
       "      <td>0</td>\n",
       "      <td>Ok lar... Joking wif u oni...</td>\n",
       "      <td>ok lar joking wif u oni</td>\n",
       "      <td>NaN</td>\n",
       "      <td>NaN</td>\n",
       "      <td>NaN</td>\n",
       "      <td>29</td>\n",
       "      <td>6</td>\n",
       "    </tr>\n",
       "    <tr>\n",
       "      <th>2</th>\n",
       "      <td>1</td>\n",
       "      <td>Free entry in 2 a wkly comp to win FA Cup fina...</td>\n",
       "      <td>free entry in a wkly comp to win fa cup final ...</td>\n",
       "      <td>NaN</td>\n",
       "      <td>NaN</td>\n",
       "      <td>NaN</td>\n",
       "      <td>155</td>\n",
       "      <td>28</td>\n",
       "    </tr>\n",
       "    <tr>\n",
       "      <th>3</th>\n",
       "      <td>0</td>\n",
       "      <td>U dun say so early hor... U c already then say...</td>\n",
       "      <td>u dun say so early hor u c already then say</td>\n",
       "      <td>NaN</td>\n",
       "      <td>NaN</td>\n",
       "      <td>NaN</td>\n",
       "      <td>49</td>\n",
       "      <td>11</td>\n",
       "    </tr>\n",
       "    <tr>\n",
       "      <th>4</th>\n",
       "      <td>0</td>\n",
       "      <td>Nah I don't think he goes to usf, he lives aro...</td>\n",
       "      <td>nah i do think he go to usf he life around her...</td>\n",
       "      <td>NaN</td>\n",
       "      <td>NaN</td>\n",
       "      <td>NaN</td>\n",
       "      <td>61</td>\n",
       "      <td>13</td>\n",
       "    </tr>\n",
       "  </tbody>\n",
       "</table>\n",
       "</div>"
      ],
      "text/plain": [
       "  target                                           sentence  \\\n",
       "0      0  Go until jurong point, crazy.. Available only ...   \n",
       "1      0                      Ok lar... Joking wif u oni...   \n",
       "2      1  Free entry in 2 a wkly comp to win FA Cup fina...   \n",
       "3      0  U dun say so early hor... U c already then say...   \n",
       "4      0  Nah I don't think he goes to usf, he lives aro...   \n",
       "\n",
       "                                                text    1    2    3  sym_len  \\\n",
       "0  go until jurong point crazy available only in ...  NaN  NaN  NaN      111   \n",
       "1                            ok lar joking wif u oni  NaN  NaN  NaN       29   \n",
       "2  free entry in a wkly comp to win fa cup final ...  NaN  NaN  NaN      155   \n",
       "3        u dun say so early hor u c already then say  NaN  NaN  NaN       49   \n",
       "4  nah i do think he go to usf he life around her...  NaN  NaN  NaN       61   \n",
       "\n",
       "   word_len  \n",
       "0        20  \n",
       "1         6  \n",
       "2        28  \n",
       "3        11  \n",
       "4        13  "
      ]
     },
     "execution_count": 19,
     "metadata": {},
     "output_type": "execute_result"
    }
   ],
   "source": [
    "data=data[['target','sentence','text','1','2','3','sym_len','word_len']]\n",
    "data.head()"
   ]
  },
  {
   "cell_type": "markdown",
   "id": "309abc3a",
   "metadata": {},
   "source": [
    "Подлеим данные на тест и трейн в пропорции 20:80"
   ]
  },
  {
   "cell_type": "code",
   "execution_count": 20,
   "id": "e84b98fb",
   "metadata": {},
   "outputs": [],
   "source": [
    "train,test=train_test_split(data,train_size=0.8,random_state=42)"
   ]
  },
  {
   "cell_type": "code",
   "execution_count": 21,
   "id": "979b86c8",
   "metadata": {},
   "outputs": [],
   "source": [
    "x_train=train.drop(['target'],axis=1)\n",
    "y_train=train['target']\n",
    "x_test=test.drop(['target'],axis=1)\n",
    "y_test=test['target']"
   ]
  },
  {
   "cell_type": "markdown",
   "id": "463974ad",
   "metadata": {},
   "source": [
    "Присвоим каждому слову свой вектор, используя tfidf"
   ]
  },
  {
   "cell_type": "code",
   "execution_count": 22,
   "id": "47d151a5",
   "metadata": {},
   "outputs": [],
   "source": [
    "tfidfvect=TfidfVectorizer(min_df=0.01,ngram_range=(1,2))"
   ]
  },
  {
   "cell_type": "code",
   "execution_count": 23,
   "id": "04b0c68d",
   "metadata": {},
   "outputs": [],
   "source": [
    "tfidf_train=tfidfvect.fit_transform(x_train['text'])"
   ]
  },
  {
   "cell_type": "code",
   "execution_count": 24,
   "id": "097d65a7",
   "metadata": {},
   "outputs": [
    {
     "data": {
      "text/plain": [
       "(4135, 223)"
      ]
     },
     "execution_count": 24,
     "metadata": {},
     "output_type": "execute_result"
    }
   ],
   "source": [
    "tfidf_train.shape"
   ]
  },
  {
   "cell_type": "code",
   "execution_count": 25,
   "id": "30827c3a",
   "metadata": {},
   "outputs": [],
   "source": [
    "tfidf_test=tfidfvect.transform(x_test['text'])"
   ]
  },
  {
   "cell_type": "code",
   "execution_count": 26,
   "id": "828dad20",
   "metadata": {},
   "outputs": [
    {
     "data": {
      "text/plain": [
       "(1034, 223)"
      ]
     },
     "execution_count": 26,
     "metadata": {},
     "output_type": "execute_result"
    }
   ],
   "source": [
    "tfidf_test.shape"
   ]
  },
  {
   "cell_type": "code",
   "execution_count": 27,
   "id": "93aa9003",
   "metadata": {},
   "outputs": [
    {
     "name": "stdout",
     "output_type": "stream",
     "text": [
      "  (0, 111)\t0.49748544889943774\n",
      "  (0, 199)\t0.8674723212491133\n"
     ]
    }
   ],
   "source": [
    "print(tfidf_train[0])"
   ]
  },
  {
   "cell_type": "code",
   "execution_count": 28,
   "id": "3df215b7",
   "metadata": {},
   "outputs": [
    {
     "name": "stdout",
     "output_type": "stream",
     "text": [
      "2228     30\n",
      "5529     25\n",
      "2149     34\n",
      "5058    145\n",
      "5051    111\n",
      "Name: sym_len, dtype: int64\n"
     ]
    }
   ],
   "source": [
    "print(x_train['sym_len'].head())"
   ]
  },
  {
   "cell_type": "markdown",
   "id": "c16a251d",
   "metadata": {},
   "source": [
    "подбор гиперпараметров с помощью гридсёрча"
   ]
  },
  {
   "cell_type": "code",
   "execution_count": 29,
   "id": "f29b0d3e",
   "metadata": {},
   "outputs": [],
   "source": [
    "from sklearn.metrics import roc_auc_score\n",
    "from sklearn.metrics import f1_score, classification_report\n",
    "from sklearn.ensemble import RandomForestClassifier\n",
    "from sklearn.model_selection import GridSearchCV"
   ]
  },
  {
   "cell_type": "code",
   "execution_count": 30,
   "id": "008e05ff",
   "metadata": {},
   "outputs": [],
   "source": [
    "from sklearn import preprocessing\n",
    "from sklearn import utils"
   ]
  },
  {
   "cell_type": "code",
   "execution_count": 31,
   "id": "af3bb302",
   "metadata": {},
   "outputs": [],
   "source": [
    "grid={\n",
    "    'n_estimators': [10,20,40],\n",
    "    'min_samples_leaf': [1, 3, 5, 7],\n",
    "    'max_features': ['sqrt', 'log2'],\n",
    "    'class_weight': [None,'balanced']\n",
    "}\n",
    "rf=RandomForestClassifier(random_state=42)"
   ]
  },
  {
   "cell_type": "code",
   "execution_count": 32,
   "id": "d25875a0",
   "metadata": {},
   "outputs": [],
   "source": [
    "cv_rf=GridSearchCV(estimator=rf,param_grid=grid,cv=5,scoring='roc_auc')\n",
    "lab = preprocessing.LabelEncoder()\n",
    "y_transformed_train = lab.fit_transform(y_train)\n",
    "y_transformed_test = lab.fit_transform(y_test)\n",
    "model=cv_rf.fit(tfidf_train,y_transformed_train)\n",
    "pred=model.predict(tfidf_test)\n",
    "accuracy=f1_score(y_transformed_test,pred)"
   ]
  },
  {
   "cell_type": "code",
   "execution_count": 33,
   "id": "a8ec9859",
   "metadata": {},
   "outputs": [
    {
     "data": {
      "text/plain": [
       "0.9784555744528906"
      ]
     },
     "execution_count": 33,
     "metadata": {},
     "output_type": "execute_result"
    }
   ],
   "source": [
    "best_params=model.best_params_\n",
    "model.best_score_\n"
   ]
  },
  {
   "cell_type": "code",
   "execution_count": 34,
   "id": "dfe636ae",
   "metadata": {},
   "outputs": [
    {
     "name": "stdout",
     "output_type": "stream",
     "text": [
      "best parameters:\n",
      "class_weight : balanced        max_features : log2        min_samples_leaf : 1        n_estimators : 40\n",
      "score of the model 0.858\n"
     ]
    }
   ],
   "source": [
    "print(f\"best parameters:\\n{'        '.join(' : '.join(str(b) for b in a) for a in best_params.items())}\\nscore of the model {accuracy:.3f}\")"
   ]
  },
  {
   "cell_type": "markdown",
   "id": "88f41fcc",
   "metadata": {},
   "source": [
    "Рассмотрим теперь векторизацию с помощью Word2Vec"
   ]
  },
  {
   "cell_type": "code",
   "execution_count": 35,
   "id": "b00b3858",
   "metadata": {},
   "outputs": [],
   "source": [
    "from gensim.models import Word2Vec\n",
    "from sklearn.metrics import accuracy_score\n",
    "from sklearn.metrics import average_precision_score"
   ]
  },
  {
   "cell_type": "code",
   "execution_count": 36,
   "id": "8cb340da",
   "metadata": {},
   "outputs": [],
   "source": [
    "w2v=data['text'].tolist()"
   ]
  },
  {
   "cell_type": "code",
   "execution_count": 54,
   "id": "b834e656",
   "metadata": {},
   "outputs": [],
   "source": [
    "w_model=Word2Vec(sentences=w2v,sg=1,vector_size=100,min_count=1,window=5)"
   ]
  },
  {
   "cell_type": "code",
   "execution_count": 55,
   "id": "ef6b5e3c",
   "metadata": {},
   "outputs": [
    {
     "data": {
      "text/plain": [
       "(600135, 3511320)"
      ]
     },
     "execution_count": 55,
     "metadata": {},
     "output_type": "execute_result"
    }
   ],
   "source": [
    "w_model.train(w2v,total_examples=len(w2v),epochs=10)"
   ]
  },
  {
   "cell_type": "code",
   "execution_count": 56,
   "id": "4d823d66",
   "metadata": {},
   "outputs": [],
   "source": [
    "def get_vector(text,model):\n",
    "    vectors = [model.wv[word] for word in text if word in model.wv]\n",
    "    if vectors:\n",
    "        vector=np.mean(vectors,axis=0)\n",
    "    else:\n",
    "        vector=np.zeros(model.vector_size)\n",
    "    return vector"
   ]
  },
  {
   "cell_type": "code",
   "execution_count": 57,
   "id": "808717f8",
   "metadata": {},
   "outputs": [],
   "source": [
    "data['vector']=data['text'].apply(lambda x: get_vector(x,w_model))"
   ]
  },
  {
   "cell_type": "code",
   "execution_count": 58,
   "id": "ac380827",
   "metadata": {},
   "outputs": [
    {
     "data": {
      "text/html": [
       "<div>\n",
       "<style scoped>\n",
       "    .dataframe tbody tr th:only-of-type {\n",
       "        vertical-align: middle;\n",
       "    }\n",
       "\n",
       "    .dataframe tbody tr th {\n",
       "        vertical-align: top;\n",
       "    }\n",
       "\n",
       "    .dataframe thead th {\n",
       "        text-align: right;\n",
       "    }\n",
       "</style>\n",
       "<table border=\"1\" class=\"dataframe\">\n",
       "  <thead>\n",
       "    <tr style=\"text-align: right;\">\n",
       "      <th></th>\n",
       "      <th>target</th>\n",
       "      <th>sentence</th>\n",
       "      <th>text</th>\n",
       "      <th>vector</th>\n",
       "      <th>1</th>\n",
       "      <th>2</th>\n",
       "      <th>3</th>\n",
       "      <th>sym_len</th>\n",
       "      <th>word_len</th>\n",
       "    </tr>\n",
       "  </thead>\n",
       "  <tbody>\n",
       "    <tr>\n",
       "      <th>0</th>\n",
       "      <td>0</td>\n",
       "      <td>Go until jurong point, crazy.. Available only ...</td>\n",
       "      <td>go until jurong point crazy available only in ...</td>\n",
       "      <td>[-0.04397035, 0.14660543, 0.034888785, 0.08752...</td>\n",
       "      <td>NaN</td>\n",
       "      <td>NaN</td>\n",
       "      <td>NaN</td>\n",
       "      <td>111</td>\n",
       "      <td>20</td>\n",
       "    </tr>\n",
       "    <tr>\n",
       "      <th>1</th>\n",
       "      <td>0</td>\n",
       "      <td>Ok lar... Joking wif u oni...</td>\n",
       "      <td>ok lar joking wif u oni</td>\n",
       "      <td>[-0.06626068, 0.16986366, 0.031319488, 0.09013...</td>\n",
       "      <td>NaN</td>\n",
       "      <td>NaN</td>\n",
       "      <td>NaN</td>\n",
       "      <td>29</td>\n",
       "      <td>6</td>\n",
       "    </tr>\n",
       "    <tr>\n",
       "      <th>2</th>\n",
       "      <td>1</td>\n",
       "      <td>Free entry in 2 a wkly comp to win FA Cup fina...</td>\n",
       "      <td>free entry in a wkly comp to win fa cup final ...</td>\n",
       "      <td>[-0.052553423, 0.13682844, 0.04987586, 0.07471...</td>\n",
       "      <td>NaN</td>\n",
       "      <td>NaN</td>\n",
       "      <td>NaN</td>\n",
       "      <td>155</td>\n",
       "      <td>28</td>\n",
       "    </tr>\n",
       "    <tr>\n",
       "      <th>3</th>\n",
       "      <td>0</td>\n",
       "      <td>U dun say so early hor... U c already then say...</td>\n",
       "      <td>u dun say so early hor u c already then say</td>\n",
       "      <td>[-0.024715582, 0.13852721, 0.038059805, 0.1030...</td>\n",
       "      <td>NaN</td>\n",
       "      <td>NaN</td>\n",
       "      <td>NaN</td>\n",
       "      <td>49</td>\n",
       "      <td>11</td>\n",
       "    </tr>\n",
       "    <tr>\n",
       "      <th>4</th>\n",
       "      <td>0</td>\n",
       "      <td>Nah I don't think he goes to usf, he lives aro...</td>\n",
       "      <td>nah i do think he go to usf he life around her...</td>\n",
       "      <td>[-0.061798897, 0.15610017, 0.024575356, 0.0807...</td>\n",
       "      <td>NaN</td>\n",
       "      <td>NaN</td>\n",
       "      <td>NaN</td>\n",
       "      <td>61</td>\n",
       "      <td>13</td>\n",
       "    </tr>\n",
       "  </tbody>\n",
       "</table>\n",
       "</div>"
      ],
      "text/plain": [
       "  target                                           sentence  \\\n",
       "0      0  Go until jurong point, crazy.. Available only ...   \n",
       "1      0                      Ok lar... Joking wif u oni...   \n",
       "2      1  Free entry in 2 a wkly comp to win FA Cup fina...   \n",
       "3      0  U dun say so early hor... U c already then say...   \n",
       "4      0  Nah I don't think he goes to usf, he lives aro...   \n",
       "\n",
       "                                                text  \\\n",
       "0  go until jurong point crazy available only in ...   \n",
       "1                            ok lar joking wif u oni   \n",
       "2  free entry in a wkly comp to win fa cup final ...   \n",
       "3        u dun say so early hor u c already then say   \n",
       "4  nah i do think he go to usf he life around her...   \n",
       "\n",
       "                                              vector    1    2    3  sym_len  \\\n",
       "0  [-0.04397035, 0.14660543, 0.034888785, 0.08752...  NaN  NaN  NaN      111   \n",
       "1  [-0.06626068, 0.16986366, 0.031319488, 0.09013...  NaN  NaN  NaN       29   \n",
       "2  [-0.052553423, 0.13682844, 0.04987586, 0.07471...  NaN  NaN  NaN      155   \n",
       "3  [-0.024715582, 0.13852721, 0.038059805, 0.1030...  NaN  NaN  NaN       49   \n",
       "4  [-0.061798897, 0.15610017, 0.024575356, 0.0807...  NaN  NaN  NaN       61   \n",
       "\n",
       "   word_len  \n",
       "0        20  \n",
       "1         6  \n",
       "2        28  \n",
       "3        11  \n",
       "4        13  "
      ]
     },
     "execution_count": 58,
     "metadata": {},
     "output_type": "execute_result"
    }
   ],
   "source": [
    "data=data[['target','sentence','text','vector','1','2','3','sym_len','word_len']]\n",
    "data.head()"
   ]
  },
  {
   "cell_type": "code",
   "execution_count": 59,
   "id": "9807c2bc",
   "metadata": {},
   "outputs": [],
   "source": [
    "X=np.array(data['vector'].tolist())\n",
    "y=data['target'].values\n",
    "if y.dtype != np.int64:\n",
    "    y = y.astype(np.int64)"
   ]
  },
  {
   "cell_type": "code",
   "execution_count": 60,
   "id": "2742e119",
   "metadata": {},
   "outputs": [],
   "source": [
    "w_x_train,w_x_test,w_y_train,w_y_test=train_test_split(X,y,test_size=0.2,random_state=42)"
   ]
  },
  {
   "cell_type": "code",
   "execution_count": 61,
   "id": "45f53c0f",
   "metadata": {},
   "outputs": [],
   "source": [
    "w_cv_rf=GridSearchCV(estimator=rf,param_grid=grid,cv=5,scoring='roc_auc')\n",
    "wcv_model=w_cv_rf.fit(w_x_train,w_y_train)\n",
    "w_pred=wcv_model.predict(w_x_test)\n",
    "w_accuracy=accuracy_score(w_y_test,w_pred)\n",
    "y_scores = wcv_model.predict_proba(w_x_test)[:, 1]\n",
    "pr_auc = average_precision_score(w_y_test,y_scores)"
   ]
  },
  {
   "cell_type": "code",
   "execution_count": 62,
   "id": "5e404b18",
   "metadata": {},
   "outputs": [
    {
     "data": {
      "text/plain": [
       "0.9284332688588007"
      ]
     },
     "execution_count": 62,
     "metadata": {},
     "output_type": "execute_result"
    }
   ],
   "source": [
    "w_accuracy"
   ]
  },
  {
   "cell_type": "markdown",
   "id": "d4471e41",
   "metadata": {},
   "source": [
    "Добавил это потому что должен справляться лучше с дисбалансом классов"
   ]
  },
  {
   "cell_type": "code",
   "execution_count": 63,
   "id": "b1cb9aa3",
   "metadata": {},
   "outputs": [
    {
     "data": {
      "text/plain": [
       "0.7948885158238226"
      ]
     },
     "execution_count": 63,
     "metadata": {},
     "output_type": "execute_result"
    }
   ],
   "source": [
    "pr_auc"
   ]
  },
  {
   "cell_type": "code",
   "execution_count": 64,
   "id": "946021a8",
   "metadata": {},
   "outputs": [],
   "source": [
    "w_best_params=wcv_model.best_params_"
   ]
  },
  {
   "cell_type": "code",
   "execution_count": 65,
   "id": "c65fc3be",
   "metadata": {},
   "outputs": [
    {
     "name": "stdout",
     "output_type": "stream",
     "text": [
      "best parameters:\n",
      "class_weight : balanced        max_features : sqrt        min_samples_leaf : 3        n_estimators : 40\n",
      "score of the model 0.928\n"
     ]
    }
   ],
   "source": [
    "print(f\"best parameters:\\n{'        '.join(' : '.join(str(b) for b in a) for a in w_best_params.items())}\\nscore of the model {w_accuracy:.3f}\")"
   ]
  },
  {
   "cell_type": "code",
   "execution_count": 66,
   "id": "81dbce8f",
   "metadata": {},
   "outputs": [
    {
     "name": "stdout",
     "output_type": "stream",
     "text": [
      "              precision    recall  f1-score   support\n",
      "\n",
      "           0       0.94      0.97      0.96       889\n",
      "           1       0.80      0.65      0.72       145\n",
      "\n",
      "    accuracy                           0.93      1034\n",
      "   macro avg       0.87      0.81      0.84      1034\n",
      "weighted avg       0.92      0.93      0.93      1034\n",
      "\n"
     ]
    }
   ],
   "source": [
    "print(classification_report(w_y_test, w_pred))"
   ]
  },
  {
   "cell_type": "code",
   "execution_count": null,
   "id": "714e0fec",
   "metadata": {},
   "outputs": [],
   "source": []
  }
 ],
 "metadata": {
  "kernelspec": {
   "display_name": "Python 3 (ipykernel)",
   "language": "python",
   "name": "python3"
  },
  "language_info": {
   "codemirror_mode": {
    "name": "ipython",
    "version": 3
   },
   "file_extension": ".py",
   "mimetype": "text/x-python",
   "name": "python",
   "nbconvert_exporter": "python",
   "pygments_lexer": "ipython3",
   "version": "3.11.5"
  }
 },
 "nbformat": 4,
 "nbformat_minor": 5
}
